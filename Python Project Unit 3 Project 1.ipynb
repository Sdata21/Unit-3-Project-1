{
 "cells": [
  {
   "cell_type": "markdown",
   "metadata": {},
   "source": [
    "# Projet-1 Feb"
   ]
  },
  {
   "cell_type": "code",
   "execution_count": 31,
   "metadata": {},
   "outputs": [],
   "source": [
    "import pandas as pd \n",
    "import numpy as np\n",
    "import matplotlib.pyplot as plt\n",
    "import seaborn as sns #visualisation\n",
    "sns.set(color_codes=True)\n",
    "%matplotlib inline \n",
    "from plotnine import ggplot\n"
   ]
  },
  {
   "cell_type": "code",
   "execution_count": 2,
   "metadata": {},
   "outputs": [
    {
     "data": {
      "text/html": [
       "<style>.container { width:100% !important; }</style>"
      ],
      "text/plain": [
       "<IPython.core.display.HTML object>"
      ]
     },
     "metadata": {},
     "output_type": "display_data"
    },
    {
     "name": "stderr",
     "output_type": "stream",
     "text": [
      "C:\\Anaconda3\\lib\\site-packages\\IPython\\core\\interactiveshell.py:3146: DtypeWarning: Columns (6) have mixed types.Specify dtype option on import or set low_memory=False.\n"
     ]
    }
   ],
   "source": [
    "# Code to enlarge \n",
    "from IPython.core.display import display, HTML\n",
    "display(HTML(\"<style>.container { width:100% !important; }</style>\"))\n",
    "df = pd.read_csv('https://raw.githubusercontent.com/CunyLaguardiaDataAnalytics/datasets/master/311_Service_Requests_from_2019May.csv',index_col=0)"
   ]
  },
  {
   "cell_type": "code",
   "execution_count": 3,
   "metadata": {
    "scrolled": true
   },
   "outputs": [
    {
     "name": "stdout",
     "output_type": "stream",
     "text": [
      "Requirement already satisfied: plotnine in c:\\anaconda3\\lib\\site-packages (0.8.0)\n",
      "Requirement already satisfied: scipy>=1.5.0 in c:\\anaconda3\\lib\\site-packages (from plotnine) (1.5.2)\n",
      "Requirement already satisfied: statsmodels>=0.12.1 in c:\\anaconda3\\lib\\site-packages (from plotnine) (0.13.2)\n",
      "Requirement already satisfied: matplotlib>=3.1.1 in c:\\anaconda3\\lib\\site-packages (from plotnine) (3.3.2)\n",
      "Requirement already satisfied: pandas>=1.1.0 in c:\\anaconda3\\lib\\site-packages (from plotnine) (1.1.3)\n",
      "Requirement already satisfied: mizani>=0.7.3 in c:\\anaconda3\\lib\\site-packages (from plotnine) (0.7.3)\n",
      "Requirement already satisfied: patsy>=0.5.1 in c:\\anaconda3\\lib\\site-packages (from plotnine) (0.5.1)\n",
      "Requirement already satisfied: descartes>=1.1.0 in c:\\anaconda3\\lib\\site-packages (from plotnine) (1.1.0)\n",
      "Requirement already satisfied: numpy>=1.19.0 in c:\\anaconda3\\lib\\site-packages (from plotnine) (1.19.2)\n",
      "Requirement already satisfied: packaging>=21.3 in c:\\anaconda3\\lib\\site-packages (from statsmodels>=0.12.1->plotnine) (21.3)\n",
      "Requirement already satisfied: certifi>=2020.06.20 in c:\\anaconda3\\lib\\site-packages (from matplotlib>=3.1.1->plotnine) (2020.6.20)\n",
      "Requirement already satisfied: pyparsing!=2.0.4,!=2.1.2,!=2.1.6,>=2.0.3 in c:\\anaconda3\\lib\\site-packages (from matplotlib>=3.1.1->plotnine) (2.4.7)\n",
      "Requirement already satisfied: cycler>=0.10 in c:\\anaconda3\\lib\\site-packages (from matplotlib>=3.1.1->plotnine) (0.10.0)\n",
      "Requirement already satisfied: pillow>=6.2.0 in c:\\anaconda3\\lib\\site-packages (from matplotlib>=3.1.1->plotnine) (8.0.1)\n",
      "Requirement already satisfied: python-dateutil>=2.1 in c:\\anaconda3\\lib\\site-packages (from matplotlib>=3.1.1->plotnine) (2.8.1)\n",
      "Requirement already satisfied: kiwisolver>=1.0.1 in c:\\anaconda3\\lib\\site-packages (from matplotlib>=3.1.1->plotnine) (1.3.0)\n",
      "Requirement already satisfied: pytz>=2017.2 in c:\\anaconda3\\lib\\site-packages (from pandas>=1.1.0->plotnine) (2020.1)\n",
      "Requirement already satisfied: palettable in c:\\anaconda3\\lib\\site-packages (from mizani>=0.7.3->plotnine) (3.3.0)\n",
      "Requirement already satisfied: six in c:\\anaconda3\\lib\\site-packages (from patsy>=0.5.1->plotnine) (1.15.0)\n",
      "Note: you may need to restart the kernel to use updated packages.\n"
     ]
    }
   ],
   "source": [
    "pip install plotnine"
   ]
  },
  {
   "cell_type": "code",
   "execution_count": 4,
   "metadata": {
    "scrolled": true
   },
   "outputs": [],
   "source": [
    "from plotnine import ggplot"
   ]
  },
  {
   "cell_type": "code",
   "execution_count": 5,
   "metadata": {},
   "outputs": [],
   "source": [
    "\n",
    "df = pd.read_csv('https://raw.githubusercontent.com/CunyLaguardiaDataAnalytics/datasets/master/2014-15_To_2016-17_School-_Level_NYC_Regents_Report_For_All_Variables.csv')"
   ]
  },
  {
   "cell_type": "code",
   "execution_count": 6,
   "metadata": {},
   "outputs": [
    {
     "data": {
      "text/html": [
       "<div>\n",
       "<style scoped>\n",
       "    .dataframe tbody tr th:only-of-type {\n",
       "        vertical-align: middle;\n",
       "    }\n",
       "\n",
       "    .dataframe tbody tr th {\n",
       "        vertical-align: top;\n",
       "    }\n",
       "\n",
       "    .dataframe thead th {\n",
       "        text-align: right;\n",
       "    }\n",
       "</style>\n",
       "<table border=\"1\" class=\"dataframe\">\n",
       "  <thead>\n",
       "    <tr style=\"text-align: right;\">\n",
       "      <th></th>\n",
       "      <th>School DBN</th>\n",
       "      <th>School Name</th>\n",
       "      <th>School Level</th>\n",
       "      <th>Regents Exam</th>\n",
       "      <th>Year</th>\n",
       "      <th>Total Tested</th>\n",
       "      <th>Mean Score</th>\n",
       "      <th>Number Scoring Below 65</th>\n",
       "      <th>Percent Scoring Below 65</th>\n",
       "      <th>Number Scoring 65 or Above</th>\n",
       "      <th>Percent Scoring 65 or Above</th>\n",
       "      <th>Number Scoring 80 or Above</th>\n",
       "      <th>Percent Scoring 80 or Above</th>\n",
       "      <th>Number Scoring CR</th>\n",
       "      <th>Percent Scoring CR</th>\n",
       "    </tr>\n",
       "  </thead>\n",
       "  <tbody>\n",
       "    <tr>\n",
       "      <th>0</th>\n",
       "      <td>01M034</td>\n",
       "      <td>P.S. 034 Franklin D. Roosevelt</td>\n",
       "      <td>K-8</td>\n",
       "      <td>Common Core Algebra</td>\n",
       "      <td>2017</td>\n",
       "      <td>4</td>\n",
       "      <td>s</td>\n",
       "      <td>s</td>\n",
       "      <td>s</td>\n",
       "      <td>s</td>\n",
       "      <td>s</td>\n",
       "      <td>s</td>\n",
       "      <td>s</td>\n",
       "      <td>na</td>\n",
       "      <td>na</td>\n",
       "    </tr>\n",
       "    <tr>\n",
       "      <th>1</th>\n",
       "      <td>01M034</td>\n",
       "      <td>P.S. 034 Franklin D. Roosevelt</td>\n",
       "      <td>K-8</td>\n",
       "      <td>Living Environment</td>\n",
       "      <td>2015</td>\n",
       "      <td>16</td>\n",
       "      <td>77.9</td>\n",
       "      <td>1</td>\n",
       "      <td>6.3</td>\n",
       "      <td>15</td>\n",
       "      <td>93.8</td>\n",
       "      <td>7</td>\n",
       "      <td>43.8</td>\n",
       "      <td>na</td>\n",
       "      <td>na</td>\n",
       "    </tr>\n",
       "    <tr>\n",
       "      <th>2</th>\n",
       "      <td>01M034</td>\n",
       "      <td>P.S. 034 Franklin D. Roosevelt</td>\n",
       "      <td>K-8</td>\n",
       "      <td>Living Environment</td>\n",
       "      <td>2016</td>\n",
       "      <td>9</td>\n",
       "      <td>74</td>\n",
       "      <td>1</td>\n",
       "      <td>11.1</td>\n",
       "      <td>8</td>\n",
       "      <td>88.9</td>\n",
       "      <td>2</td>\n",
       "      <td>22.2</td>\n",
       "      <td>na</td>\n",
       "      <td>na</td>\n",
       "    </tr>\n",
       "    <tr>\n",
       "      <th>3</th>\n",
       "      <td>01M140</td>\n",
       "      <td>P.S. 140 Nathan Straus</td>\n",
       "      <td>K-8</td>\n",
       "      <td>Common Core Algebra</td>\n",
       "      <td>2016</td>\n",
       "      <td>3</td>\n",
       "      <td>s</td>\n",
       "      <td>s</td>\n",
       "      <td>s</td>\n",
       "      <td>s</td>\n",
       "      <td>s</td>\n",
       "      <td>s</td>\n",
       "      <td>s</td>\n",
       "      <td>na</td>\n",
       "      <td>na</td>\n",
       "    </tr>\n",
       "    <tr>\n",
       "      <th>4</th>\n",
       "      <td>01M140</td>\n",
       "      <td>P.S. 140 Nathan Straus</td>\n",
       "      <td>K-8</td>\n",
       "      <td>Common Core Algebra</td>\n",
       "      <td>2017</td>\n",
       "      <td>2</td>\n",
       "      <td>s</td>\n",
       "      <td>s</td>\n",
       "      <td>s</td>\n",
       "      <td>s</td>\n",
       "      <td>s</td>\n",
       "      <td>s</td>\n",
       "      <td>s</td>\n",
       "      <td>na</td>\n",
       "      <td>na</td>\n",
       "    </tr>\n",
       "  </tbody>\n",
       "</table>\n",
       "</div>"
      ],
      "text/plain": [
       "  School DBN                     School Name School Level  \\\n",
       "0     01M034  P.S. 034 Franklin D. Roosevelt          K-8   \n",
       "1     01M034  P.S. 034 Franklin D. Roosevelt          K-8   \n",
       "2     01M034  P.S. 034 Franklin D. Roosevelt          K-8   \n",
       "3     01M140          P.S. 140 Nathan Straus          K-8   \n",
       "4     01M140          P.S. 140 Nathan Straus          K-8   \n",
       "\n",
       "          Regents Exam  Year  Total Tested Mean Score Number Scoring Below 65  \\\n",
       "0  Common Core Algebra  2017             4          s                       s   \n",
       "1   Living Environment  2015            16       77.9                       1   \n",
       "2   Living Environment  2016             9         74                       1   \n",
       "3  Common Core Algebra  2016             3          s                       s   \n",
       "4  Common Core Algebra  2017             2          s                       s   \n",
       "\n",
       "  Percent Scoring Below 65 Number Scoring 65 or Above  \\\n",
       "0                        s                          s   \n",
       "1                      6.3                         15   \n",
       "2                     11.1                          8   \n",
       "3                        s                          s   \n",
       "4                        s                          s   \n",
       "\n",
       "  Percent Scoring 65 or Above Number Scoring 80 or Above  \\\n",
       "0                           s                          s   \n",
       "1                        93.8                          7   \n",
       "2                        88.9                          2   \n",
       "3                           s                          s   \n",
       "4                           s                          s   \n",
       "\n",
       "  Percent Scoring 80 or Above Number Scoring CR Percent Scoring CR  \n",
       "0                           s                na                 na  \n",
       "1                        43.8                na                 na  \n",
       "2                        22.2                na                 na  \n",
       "3                           s                na                 na  \n",
       "4                           s                na                 na  "
      ]
     },
     "execution_count": 6,
     "metadata": {},
     "output_type": "execute_result"
    }
   ],
   "source": [
    "df.head()"
   ]
  },
  {
   "cell_type": "code",
   "execution_count": 7,
   "metadata": {},
   "outputs": [
    {
     "data": {
      "text/html": [
       "<div>\n",
       "<style scoped>\n",
       "    .dataframe tbody tr th:only-of-type {\n",
       "        vertical-align: middle;\n",
       "    }\n",
       "\n",
       "    .dataframe tbody tr th {\n",
       "        vertical-align: top;\n",
       "    }\n",
       "\n",
       "    .dataframe thead th {\n",
       "        text-align: right;\n",
       "    }\n",
       "</style>\n",
       "<table border=\"1\" class=\"dataframe\">\n",
       "  <thead>\n",
       "    <tr style=\"text-align: right;\">\n",
       "      <th></th>\n",
       "      <th>School DBN</th>\n",
       "      <th>School Name</th>\n",
       "      <th>School Level</th>\n",
       "      <th>Regents Exam</th>\n",
       "      <th>Year</th>\n",
       "      <th>Total Tested</th>\n",
       "      <th>Mean Score</th>\n",
       "      <th>Number Scoring Below 65</th>\n",
       "      <th>Percent Scoring Below 65</th>\n",
       "      <th>Number Scoring 65 or Above</th>\n",
       "      <th>Percent Scoring 65 or Above</th>\n",
       "      <th>Number Scoring 80 or Above</th>\n",
       "      <th>Percent Scoring 80 or Above</th>\n",
       "      <th>Number Scoring CR</th>\n",
       "      <th>Percent Scoring CR</th>\n",
       "    </tr>\n",
       "  </thead>\n",
       "  <tbody>\n",
       "    <tr>\n",
       "      <th>212326</th>\n",
       "      <td>84X717</td>\n",
       "      <td>Icahn Charter School</td>\n",
       "      <td>K-8</td>\n",
       "      <td>Living Environment</td>\n",
       "      <td>2016</td>\n",
       "      <td>8</td>\n",
       "      <td>s</td>\n",
       "      <td>s</td>\n",
       "      <td>s</td>\n",
       "      <td>s</td>\n",
       "      <td>s</td>\n",
       "      <td>s</td>\n",
       "      <td>s</td>\n",
       "      <td>na</td>\n",
       "      <td>na</td>\n",
       "    </tr>\n",
       "    <tr>\n",
       "      <th>212327</th>\n",
       "      <td>84X717</td>\n",
       "      <td>Icahn Charter School</td>\n",
       "      <td>K-8</td>\n",
       "      <td>Living Environment</td>\n",
       "      <td>2016</td>\n",
       "      <td>5</td>\n",
       "      <td>s</td>\n",
       "      <td>s</td>\n",
       "      <td>s</td>\n",
       "      <td>s</td>\n",
       "      <td>s</td>\n",
       "      <td>s</td>\n",
       "      <td>s</td>\n",
       "      <td>na</td>\n",
       "      <td>na</td>\n",
       "    </tr>\n",
       "    <tr>\n",
       "      <th>212328</th>\n",
       "      <td>84X717</td>\n",
       "      <td>Icahn Charter School</td>\n",
       "      <td>K-8</td>\n",
       "      <td>Living Environment</td>\n",
       "      <td>2017</td>\n",
       "      <td>6</td>\n",
       "      <td>s</td>\n",
       "      <td>s</td>\n",
       "      <td>s</td>\n",
       "      <td>s</td>\n",
       "      <td>s</td>\n",
       "      <td>s</td>\n",
       "      <td>s</td>\n",
       "      <td>na</td>\n",
       "      <td>na</td>\n",
       "    </tr>\n",
       "    <tr>\n",
       "      <th>212329</th>\n",
       "      <td>84X717</td>\n",
       "      <td>Icahn Charter School</td>\n",
       "      <td>K-8</td>\n",
       "      <td>Living Environment</td>\n",
       "      <td>2017</td>\n",
       "      <td>4</td>\n",
       "      <td>s</td>\n",
       "      <td>s</td>\n",
       "      <td>s</td>\n",
       "      <td>s</td>\n",
       "      <td>s</td>\n",
       "      <td>s</td>\n",
       "      <td>s</td>\n",
       "      <td>na</td>\n",
       "      <td>na</td>\n",
       "    </tr>\n",
       "    <tr>\n",
       "      <th>212330</th>\n",
       "      <td>84X717</td>\n",
       "      <td>Icahn Charter School</td>\n",
       "      <td>K-8</td>\n",
       "      <td>U.S. History and Government</td>\n",
       "      <td>2015</td>\n",
       "      <td>1</td>\n",
       "      <td>s</td>\n",
       "      <td>s</td>\n",
       "      <td>s</td>\n",
       "      <td>s</td>\n",
       "      <td>s</td>\n",
       "      <td>s</td>\n",
       "      <td>s</td>\n",
       "      <td>na</td>\n",
       "      <td>na</td>\n",
       "    </tr>\n",
       "  </tbody>\n",
       "</table>\n",
       "</div>"
      ],
      "text/plain": [
       "       School DBN           School Name School Level  \\\n",
       "212326     84X717  Icahn Charter School          K-8   \n",
       "212327     84X717  Icahn Charter School          K-8   \n",
       "212328     84X717  Icahn Charter School          K-8   \n",
       "212329     84X717  Icahn Charter School          K-8   \n",
       "212330     84X717  Icahn Charter School          K-8   \n",
       "\n",
       "                       Regents Exam  Year  Total Tested Mean Score  \\\n",
       "212326           Living Environment  2016             8          s   \n",
       "212327           Living Environment  2016             5          s   \n",
       "212328           Living Environment  2017             6          s   \n",
       "212329           Living Environment  2017             4          s   \n",
       "212330  U.S. History and Government  2015             1          s   \n",
       "\n",
       "       Number Scoring Below 65 Percent Scoring Below 65  \\\n",
       "212326                       s                        s   \n",
       "212327                       s                        s   \n",
       "212328                       s                        s   \n",
       "212329                       s                        s   \n",
       "212330                       s                        s   \n",
       "\n",
       "       Number Scoring 65 or Above Percent Scoring 65 or Above  \\\n",
       "212326                          s                           s   \n",
       "212327                          s                           s   \n",
       "212328                          s                           s   \n",
       "212329                          s                           s   \n",
       "212330                          s                           s   \n",
       "\n",
       "       Number Scoring 80 or Above Percent Scoring 80 or Above  \\\n",
       "212326                          s                           s   \n",
       "212327                          s                           s   \n",
       "212328                          s                           s   \n",
       "212329                          s                           s   \n",
       "212330                          s                           s   \n",
       "\n",
       "       Number Scoring CR Percent Scoring CR  \n",
       "212326                na                 na  \n",
       "212327                na                 na  \n",
       "212328                na                 na  \n",
       "212329                na                 na  \n",
       "212330                na                 na  "
      ]
     },
     "execution_count": 7,
     "metadata": {},
     "output_type": "execute_result"
    }
   ],
   "source": [
    "df.tail()"
   ]
  },
  {
   "cell_type": "code",
   "execution_count": 8,
   "metadata": {},
   "outputs": [
    {
     "data": {
      "text/plain": [
       "School DBN                     object\n",
       "School Name                    object\n",
       "School Level                   object\n",
       "Regents Exam                   object\n",
       "Year                            int64\n",
       "Total Tested                    int64\n",
       "Mean Score                     object\n",
       "Number Scoring Below 65        object\n",
       "Percent Scoring Below 65       object\n",
       "Number Scoring 65 or Above     object\n",
       "Percent Scoring 65 or Above    object\n",
       "Number Scoring 80 or Above     object\n",
       "Percent Scoring 80 or Above    object\n",
       "Number Scoring CR              object\n",
       "Percent Scoring CR             object\n",
       "dtype: object"
      ]
     },
     "execution_count": 8,
     "metadata": {},
     "output_type": "execute_result"
    }
   ],
   "source": [
    "df.dtypes"
   ]
  },
  {
   "cell_type": "code",
   "execution_count": 9,
   "metadata": {},
   "outputs": [
    {
     "data": {
      "text/plain": [
       "School DBN                     212331\n",
       "School Name                    212331\n",
       "School Level                   212331\n",
       "Regents Exam                   212321\n",
       "Year                           212331\n",
       "Total Tested                   212331\n",
       "Mean Score                     212331\n",
       "Number Scoring Below 65        212331\n",
       "Percent Scoring Below 65       212331\n",
       "Number Scoring 65 or Above     212331\n",
       "Percent Scoring 65 or Above    212331\n",
       "Number Scoring 80 or Above     212331\n",
       "Percent Scoring 80 or Above    212331\n",
       "Number Scoring CR              212331\n",
       "Percent Scoring CR             212331\n",
       "dtype: int64"
      ]
     },
     "execution_count": 9,
     "metadata": {},
     "output_type": "execute_result"
    }
   ],
   "source": [
    "df.count()"
   ]
  },
  {
   "cell_type": "code",
   "execution_count": 10,
   "metadata": {},
   "outputs": [
    {
     "data": {
      "text/plain": [
       "(212331, 15)"
      ]
     },
     "execution_count": 10,
     "metadata": {},
     "output_type": "execute_result"
    }
   ],
   "source": [
    "df.shape"
   ]
  },
  {
   "cell_type": "markdown",
   "metadata": {},
   "source": [
    "## Determine the # of Duplicate Rows "
   ]
  },
  {
   "cell_type": "code",
   "execution_count": 11,
   "metadata": {},
   "outputs": [
    {
     "name": "stdout",
     "output_type": "stream",
     "text": [
      "number of duplicate rows: (23819, 15)\n"
     ]
    }
   ],
   "source": [
    "duplicate_rows_df=df[df.duplicated()] \n",
    "print (\"number of duplicate rows:\", duplicate_rows_df.shape)"
   ]
  },
  {
   "cell_type": "markdown",
   "metadata": {},
   "source": [
    "# Remove Duplicate Rows "
   ]
  },
  {
   "cell_type": "code",
   "execution_count": 12,
   "metadata": {},
   "outputs": [],
   "source": [
    "df = df.drop_duplicates()"
   ]
  },
  {
   "cell_type": "code",
   "execution_count": 13,
   "metadata": {
    "scrolled": false
   },
   "outputs": [
    {
     "data": {
      "text/plain": [
       "School DBN                     188512\n",
       "School Name                    188512\n",
       "School Level                   188512\n",
       "Regents Exam                   188502\n",
       "Year                           188512\n",
       "Total Tested                   188512\n",
       "Mean Score                     188512\n",
       "Number Scoring Below 65        188512\n",
       "Percent Scoring Below 65       188512\n",
       "Number Scoring 65 or Above     188512\n",
       "Percent Scoring 65 or Above    188512\n",
       "Number Scoring 80 or Above     188512\n",
       "Percent Scoring 80 or Above    188512\n",
       "Number Scoring CR              188512\n",
       "Percent Scoring CR             188512\n",
       "dtype: int64"
      ]
     },
     "execution_count": 13,
     "metadata": {},
     "output_type": "execute_result"
    }
   ],
   "source": [
    "df.count()"
   ]
  },
  {
   "cell_type": "code",
   "execution_count": 14,
   "metadata": {},
   "outputs": [
    {
     "data": {
      "text/plain": [
       "<pandas.plotting._core.PlotAccessor object at 0x000001F8D6A13340>"
      ]
     },
     "execution_count": 14,
     "metadata": {},
     "output_type": "execute_result"
    }
   ],
   "source": [
    "df.plot"
   ]
  },
  {
   "cell_type": "code",
   "execution_count": 15,
   "metadata": {
    "scrolled": true
   },
   "outputs": [
    {
     "data": {
      "text/plain": [
       "<AxesSubplot:ylabel='Frequency'>"
      ]
     },
     "execution_count": 15,
     "metadata": {},
     "output_type": "execute_result"
    },
    {
     "data": {
      "image/png": "[encoded data removed]",
      "text/plain": [
       "<Figure size 432x288 with 1 Axes>"
      ]
     },
     "metadata": {
      "needs_background": "light"
     },
     "output_type": "display_data"
    }
   ],
   "source": [
    "df.plot(kind=\"hist\")"
   ]
  },
  {
   "cell_type": "markdown",
   "metadata": {},
   "source": [
    "# Creating a subset now called DFS\n",
    "WHICH WILL ONLY HAVE THE HIGH SCHOLS "
   ]
  },
  {
   "cell_type": "code",
   "execution_count": 16,
   "metadata": {},
   "outputs": [],
   "source": [
    "dfs=df[df['School Level']=='High school']"
   ]
  },
  {
   "cell_type": "code",
   "execution_count": 17,
   "metadata": {},
   "outputs": [
    {
     "data": {
      "text/html": [
       "<div>\n",
       "<style scoped>\n",
       "    .dataframe tbody tr th:only-of-type {\n",
       "        vertical-align: middle;\n",
       "    }\n",
       "\n",
       "    .dataframe tbody tr th {\n",
       "        vertical-align: top;\n",
       "    }\n",
       "\n",
       "    .dataframe thead th {\n",
       "        text-align: right;\n",
       "    }\n",
       "</style>\n",
       "<table border=\"1\" class=\"dataframe\">\n",
       "  <thead>\n",
       "    <tr style=\"text-align: right;\">\n",
       "      <th></th>\n",
       "      <th>School DBN</th>\n",
       "      <th>School Name</th>\n",
       "      <th>School Level</th>\n",
       "      <th>Regents Exam</th>\n",
       "      <th>Year</th>\n",
       "      <th>Total Tested</th>\n",
       "      <th>Mean Score</th>\n",
       "      <th>Number Scoring Below 65</th>\n",
       "      <th>Percent Scoring Below 65</th>\n",
       "      <th>Number Scoring 65 or Above</th>\n",
       "      <th>Percent Scoring 65 or Above</th>\n",
       "      <th>Number Scoring 80 or Above</th>\n",
       "      <th>Percent Scoring 80 or Above</th>\n",
       "      <th>Number Scoring CR</th>\n",
       "      <th>Percent Scoring CR</th>\n",
       "    </tr>\n",
       "  </thead>\n",
       "  <tbody>\n",
       "    <tr>\n",
       "      <th>18</th>\n",
       "      <td>01M292</td>\n",
       "      <td>Orchard Collegiate Academy</td>\n",
       "      <td>High school</td>\n",
       "      <td>Algebra2/Trigonometry</td>\n",
       "      <td>2015</td>\n",
       "      <td>5</td>\n",
       "      <td>s</td>\n",
       "      <td>s</td>\n",
       "      <td>s</td>\n",
       "      <td>s</td>\n",
       "      <td>s</td>\n",
       "      <td>s</td>\n",
       "      <td>s</td>\n",
       "      <td>na</td>\n",
       "      <td>na</td>\n",
       "    </tr>\n",
       "    <tr>\n",
       "      <th>19</th>\n",
       "      <td>01M292</td>\n",
       "      <td>Orchard Collegiate Academy</td>\n",
       "      <td>High school</td>\n",
       "      <td>Algebra2/Trigonometry</td>\n",
       "      <td>2016</td>\n",
       "      <td>5</td>\n",
       "      <td>s</td>\n",
       "      <td>s</td>\n",
       "      <td>s</td>\n",
       "      <td>s</td>\n",
       "      <td>s</td>\n",
       "      <td>s</td>\n",
       "      <td>s</td>\n",
       "      <td>na</td>\n",
       "      <td>na</td>\n",
       "    </tr>\n",
       "    <tr>\n",
       "      <th>20</th>\n",
       "      <td>01M292</td>\n",
       "      <td>Orchard Collegiate Academy</td>\n",
       "      <td>High school</td>\n",
       "      <td>Common Core Algebra</td>\n",
       "      <td>2015</td>\n",
       "      <td>12</td>\n",
       "      <td>52.3</td>\n",
       "      <td>11</td>\n",
       "      <td>91.7</td>\n",
       "      <td>1</td>\n",
       "      <td>8.3</td>\n",
       "      <td>0</td>\n",
       "      <td>0</td>\n",
       "      <td>0</td>\n",
       "      <td>0</td>\n",
       "    </tr>\n",
       "    <tr>\n",
       "      <th>21</th>\n",
       "      <td>01M292</td>\n",
       "      <td>Orchard Collegiate Academy</td>\n",
       "      <td>High school</td>\n",
       "      <td>Common Core Algebra</td>\n",
       "      <td>2016</td>\n",
       "      <td>50</td>\n",
       "      <td>63.9</td>\n",
       "      <td>25</td>\n",
       "      <td>50</td>\n",
       "      <td>25</td>\n",
       "      <td>50</td>\n",
       "      <td>3</td>\n",
       "      <td>6</td>\n",
       "      <td>15</td>\n",
       "      <td>30</td>\n",
       "    </tr>\n",
       "    <tr>\n",
       "      <th>22</th>\n",
       "      <td>01M292</td>\n",
       "      <td>Orchard Collegiate Academy</td>\n",
       "      <td>High school</td>\n",
       "      <td>Common Core Algebra</td>\n",
       "      <td>2017</td>\n",
       "      <td>53</td>\n",
       "      <td>67.5</td>\n",
       "      <td>15</td>\n",
       "      <td>28.3</td>\n",
       "      <td>38</td>\n",
       "      <td>71.7</td>\n",
       "      <td>6</td>\n",
       "      <td>11.3</td>\n",
       "      <td>29</td>\n",
       "      <td>54.7</td>\n",
       "    </tr>\n",
       "  </tbody>\n",
       "</table>\n",
       "</div>"
      ],
      "text/plain": [
       "   School DBN                 School Name School Level           Regents Exam  \\\n",
       "18     01M292  Orchard Collegiate Academy  High school  Algebra2/Trigonometry   \n",
       "19     01M292  Orchard Collegiate Academy  High school  Algebra2/Trigonometry   \n",
       "20     01M292  Orchard Collegiate Academy  High school    Common Core Algebra   \n",
       "21     01M292  Orchard Collegiate Academy  High school    Common Core Algebra   \n",
       "22     01M292  Orchard Collegiate Academy  High school    Common Core Algebra   \n",
       "\n",
       "    Year  Total Tested Mean Score Number Scoring Below 65  \\\n",
       "18  2015             5          s                       s   \n",
       "19  2016             5          s                       s   \n",
       "20  2015            12       52.3                      11   \n",
       "21  2016            50       63.9                      25   \n",
       "22  2017            53       67.5                      15   \n",
       "\n",
       "   Percent Scoring Below 65 Number Scoring 65 or Above  \\\n",
       "18                        s                          s   \n",
       "19                        s                          s   \n",
       "20                     91.7                          1   \n",
       "21                       50                         25   \n",
       "22                     28.3                         38   \n",
       "\n",
       "   Percent Scoring 65 or Above Number Scoring 80 or Above  \\\n",
       "18                           s                          s   \n",
       "19                           s                          s   \n",
       "20                         8.3                          0   \n",
       "21                          50                          3   \n",
       "22                        71.7                          6   \n",
       "\n",
       "   Percent Scoring 80 or Above Number Scoring CR Percent Scoring CR  \n",
       "18                           s                na                 na  \n",
       "19                           s                na                 na  \n",
       "20                           0                 0                  0  \n",
       "21                           6                15                 30  \n",
       "22                        11.3                29               54.7  "
      ]
     },
     "execution_count": 17,
     "metadata": {},
     "output_type": "execute_result"
    }
   ],
   "source": [
    "dfs.head()"
   ]
  },
  {
   "cell_type": "code",
   "execution_count": 22,
   "metadata": {},
   "outputs": [
    {
     "data": {
      "text/plain": [
       "<AxesSubplot:ylabel='Frequency'>"
      ]
     },
     "execution_count": 22,
     "metadata": {},
     "output_type": "execute_result"
    },
    {
     "data": {
      "image/png": "[encoded data removed]",
      "text/plain": [
       "<Figure size 432x288 with 1 Axes>"
      ]
     },
     "metadata": {
      "needs_background": "light"
     },
     "output_type": "display_data"
    }
   ],
   "source": [
    "dfs.plot(kind=\"hist\")"
   ]
  },
  {
   "cell_type": "markdown",
   "metadata": {},
   "source": [
    "## Creating a subset now called DFQ\n",
    "WHICH WILL NOW CONTAING ONLY HS IN QNS "
   ]
  },
  {
   "cell_type": "code",
   "execution_count": 38,
   "metadata": {},
   "outputs": [
    {
     "data": {
      "text/html": [
       "<div>\n",
       "<style scoped>\n",
       "    .dataframe tbody tr th:only-of-type {\n",
       "        vertical-align: middle;\n",
       "    }\n",
       "\n",
       "    .dataframe tbody tr th {\n",
       "        vertical-align: top;\n",
       "    }\n",
       "\n",
       "    .dataframe thead th {\n",
       "        text-align: right;\n",
       "    }\n",
       "</style>\n",
       "<table border=\"1\" class=\"dataframe\">\n",
       "  <thead>\n",
       "    <tr style=\"text-align: right;\">\n",
       "      <th></th>\n",
       "      <th>School DBN</th>\n",
       "      <th>School Name</th>\n",
       "      <th>School Level</th>\n",
       "      <th>Regents Exam</th>\n",
       "      <th>Year</th>\n",
       "      <th>Total Tested</th>\n",
       "      <th>Mean Score</th>\n",
       "      <th>Number Scoring Below 65</th>\n",
       "      <th>Percent Scoring Below 65</th>\n",
       "      <th>Number Scoring 65 or Above</th>\n",
       "      <th>Percent Scoring 65 or Above</th>\n",
       "      <th>Number Scoring 80 or Above</th>\n",
       "      <th>Percent Scoring 80 or Above</th>\n",
       "      <th>Number Scoring CR</th>\n",
       "      <th>Percent Scoring CR</th>\n",
       "    </tr>\n",
       "  </thead>\n",
       "  <tbody>\n",
       "    <tr>\n",
       "      <th>13095</th>\n",
       "      <td>24Q457</td>\n",
       "      <td>H.S. Arts &amp; Business Yabc</td>\n",
       "      <td>High school</td>\n",
       "      <td>English</td>\n",
       "      <td>2016</td>\n",
       "      <td>20</td>\n",
       "      <td>55.5</td>\n",
       "      <td>13</td>\n",
       "      <td>65</td>\n",
       "      <td>7</td>\n",
       "      <td>35</td>\n",
       "      <td>0</td>\n",
       "      <td>0</td>\n",
       "      <td>1</td>\n",
       "      <td>5</td>\n",
       "    </tr>\n",
       "    <tr>\n",
       "      <th>13444</th>\n",
       "      <td>24Q457</td>\n",
       "      <td>H.S. Arts &amp; Business Yabc</td>\n",
       "      <td>High school</td>\n",
       "      <td>Geometry</td>\n",
       "      <td>2015</td>\n",
       "      <td>5</td>\n",
       "      <td>s</td>\n",
       "      <td>s</td>\n",
       "      <td>s</td>\n",
       "      <td>s</td>\n",
       "      <td>s</td>\n",
       "      <td>s</td>\n",
       "      <td>s</td>\n",
       "      <td>na</td>\n",
       "      <td>na</td>\n",
       "    </tr>\n",
       "    <tr>\n",
       "      <th>13470</th>\n",
       "      <td>24Q236</td>\n",
       "      <td>International High School for Health Sciences</td>\n",
       "      <td>High school</td>\n",
       "      <td>Algebra2/Trigonometry</td>\n",
       "      <td>2016</td>\n",
       "      <td>1</td>\n",
       "      <td>s</td>\n",
       "      <td>s</td>\n",
       "      <td>s</td>\n",
       "      <td>s</td>\n",
       "      <td>s</td>\n",
       "      <td>s</td>\n",
       "      <td>s</td>\n",
       "      <td>na</td>\n",
       "      <td>na</td>\n",
       "    </tr>\n",
       "    <tr>\n",
       "      <th>13471</th>\n",
       "      <td>24Q236</td>\n",
       "      <td>International High School for Health Sciences</td>\n",
       "      <td>High school</td>\n",
       "      <td>Common Core Algebra</td>\n",
       "      <td>2015</td>\n",
       "      <td>92</td>\n",
       "      <td>53.7</td>\n",
       "      <td>73</td>\n",
       "      <td>79.3</td>\n",
       "      <td>19</td>\n",
       "      <td>20.7</td>\n",
       "      <td>1</td>\n",
       "      <td>1.1</td>\n",
       "      <td>6</td>\n",
       "      <td>6.5</td>\n",
       "    </tr>\n",
       "    <tr>\n",
       "      <th>13472</th>\n",
       "      <td>24Q236</td>\n",
       "      <td>International High School for Health Sciences</td>\n",
       "      <td>High school</td>\n",
       "      <td>Common Core Algebra</td>\n",
       "      <td>2016</td>\n",
       "      <td>139</td>\n",
       "      <td>63.5</td>\n",
       "      <td>77</td>\n",
       "      <td>55.4</td>\n",
       "      <td>62</td>\n",
       "      <td>44.6</td>\n",
       "      <td>26</td>\n",
       "      <td>18.7</td>\n",
       "      <td>50</td>\n",
       "      <td>36</td>\n",
       "    </tr>\n",
       "  </tbody>\n",
       "</table>\n",
       "</div>"
      ],
      "text/plain": [
       "      School DBN                                    School Name School Level  \\\n",
       "13095     24Q457                      H.S. Arts & Business Yabc  High school   \n",
       "13444     24Q457                      H.S. Arts & Business Yabc  High school   \n",
       "13470     24Q236  International High School for Health Sciences  High school   \n",
       "13471     24Q236  International High School for Health Sciences  High school   \n",
       "13472     24Q236  International High School for Health Sciences  High school   \n",
       "\n",
       "                Regents Exam  Year  Total Tested Mean Score  \\\n",
       "13095                English  2016            20       55.5   \n",
       "13444               Geometry  2015             5          s   \n",
       "13470  Algebra2/Trigonometry  2016             1          s   \n",
       "13471    Common Core Algebra  2015            92       53.7   \n",
       "13472    Common Core Algebra  2016           139       63.5   \n",
       "\n",
       "      Number Scoring Below 65 Percent Scoring Below 65  \\\n",
       "13095                      13                       65   \n",
       "13444                       s                        s   \n",
       "13470                       s                        s   \n",
       "13471                      73                     79.3   \n",
       "13472                      77                     55.4   \n",
       "\n",
       "      Number Scoring 65 or Above Percent Scoring 65 or Above  \\\n",
       "13095                          7                          35   \n",
       "13444                          s                           s   \n",
       "13470                          s                           s   \n",
       "13471                         19                        20.7   \n",
       "13472                         62                        44.6   \n",
       "\n",
       "      Number Scoring 80 or Above Percent Scoring 80 or Above  \\\n",
       "13095                          0                           0   \n",
       "13444                          s                           s   \n",
       "13470                          s                           s   \n",
       "13471                          1                         1.1   \n",
       "13472                         26                        18.7   \n",
       "\n",
       "      Number Scoring CR Percent Scoring CR  \n",
       "13095                 1                  5  \n",
       "13444                na                 na  \n",
       "13470                na                 na  \n",
       "13471                 6                6.5  \n",
       "13472                50                 36  "
      ]
     },
     "execution_count": 38,
     "metadata": {},
     "output_type": "execute_result"
    }
   ],
   "source": [
    "dfq=dfs[dfs['School DBN'].str.contains('Q')]\n",
    "dfq.head()"
   ]
  },
  {
   "cell_type": "code",
   "execution_count": 40,
   "metadata": {},
   "outputs": [
    {
     "data": {
      "text/plain": [
       "School DBN                     25110\n",
       "School Name                    25110\n",
       "School Level                   25110\n",
       "Regents Exam                   25110\n",
       "Year                           25110\n",
       "Total Tested                   25110\n",
       "Mean Score                     25110\n",
       "Number Scoring Below 65        25110\n",
       "Percent Scoring Below 65       25110\n",
       "Number Scoring 65 or Above     25110\n",
       "Percent Scoring 65 or Above    25110\n",
       "Number Scoring 80 or Above     25110\n",
       "Percent Scoring 80 or Above    25110\n",
       "Number Scoring CR              25110\n",
       "Percent Scoring CR             25110\n",
       "dtype: int64"
      ]
     },
     "execution_count": 40,
     "metadata": {},
     "output_type": "execute_result"
    }
   ],
   "source": [
    "dfq.count()"
   ]
  },
  {
   "cell_type": "code",
   "execution_count": 41,
   "metadata": {},
   "outputs": [
    {
     "data": {
      "text/html": [
       "<div>\n",
       "<style scoped>\n",
       "    .dataframe tbody tr th:only-of-type {\n",
       "        vertical-align: middle;\n",
       "    }\n",
       "\n",
       "    .dataframe tbody tr th {\n",
       "        vertical-align: top;\n",
       "    }\n",
       "\n",
       "    .dataframe thead th {\n",
       "        text-align: right;\n",
       "    }\n",
       "</style>\n",
       "<table border=\"1\" class=\"dataframe\">\n",
       "  <thead>\n",
       "    <tr style=\"text-align: right;\">\n",
       "      <th></th>\n",
       "      <th>Year</th>\n",
       "      <th>Total Tested</th>\n",
       "    </tr>\n",
       "  </thead>\n",
       "  <tbody>\n",
       "    <tr>\n",
       "      <th>count</th>\n",
       "      <td>25110.000000</td>\n",
       "      <td>25110.000000</td>\n",
       "    </tr>\n",
       "    <tr>\n",
       "      <th>mean</th>\n",
       "      <td>2015.952688</td>\n",
       "      <td>94.393270</td>\n",
       "    </tr>\n",
       "    <tr>\n",
       "      <th>std</th>\n",
       "      <td>0.799802</td>\n",
       "      <td>148.961539</td>\n",
       "    </tr>\n",
       "    <tr>\n",
       "      <th>min</th>\n",
       "      <td>2015.000000</td>\n",
       "      <td>1.000000</td>\n",
       "    </tr>\n",
       "    <tr>\n",
       "      <th>25%</th>\n",
       "      <td>2015.000000</td>\n",
       "      <td>11.000000</td>\n",
       "    </tr>\n",
       "    <tr>\n",
       "      <th>50%</th>\n",
       "      <td>2016.000000</td>\n",
       "      <td>38.000000</td>\n",
       "    </tr>\n",
       "    <tr>\n",
       "      <th>75%</th>\n",
       "      <td>2017.000000</td>\n",
       "      <td>111.000000</td>\n",
       "    </tr>\n",
       "    <tr>\n",
       "      <th>max</th>\n",
       "      <td>2017.000000</td>\n",
       "      <td>1384.000000</td>\n",
       "    </tr>\n",
       "  </tbody>\n",
       "</table>\n",
       "</div>"
      ],
      "text/plain": [
       "               Year  Total Tested\n",
       "count  25110.000000  25110.000000\n",
       "mean    2015.952688     94.393270\n",
       "std        0.799802    148.961539\n",
       "min     2015.000000      1.000000\n",
       "25%     2015.000000     11.000000\n",
       "50%     2016.000000     38.000000\n",
       "75%     2017.000000    111.000000\n",
       "max     2017.000000   1384.000000"
      ]
     },
     "execution_count": 41,
     "metadata": {},
     "output_type": "execute_result"
    }
   ],
   "source": [
    "dfq.describe()"
   ]
  },
  {
   "cell_type": "code",
   "execution_count": 42,
   "metadata": {},
   "outputs": [
    {
     "name": "stdout",
     "output_type": "stream",
     "text": [
      "<class 'pandas.core.frame.DataFrame'>\n",
      "Int64Index: 25110 entries, 13095 to 210446\n",
      "Data columns (total 15 columns):\n",
      " #   Column                       Non-Null Count  Dtype \n",
      "---  ------                       --------------  ----- \n",
      " 0   School DBN                   25110 non-null  object\n",
      " 1   School Name                  25110 non-null  object\n",
      " 2   School Level                 25110 non-null  object\n",
      " 3   Regents Exam                 25110 non-null  object\n",
      " 4   Year                         25110 non-null  int64 \n",
      " 5   Total Tested                 25110 non-null  int64 \n",
      " 6   Mean Score                   25110 non-null  object\n",
      " 7   Number Scoring Below 65      25110 non-null  object\n",
      " 8   Percent Scoring Below 65     25110 non-null  object\n",
      " 9   Number Scoring 65 or Above   25110 non-null  object\n",
      " 10  Percent Scoring 65 or Above  25110 non-null  object\n",
      " 11  Number Scoring 80 or Above   25110 non-null  object\n",
      " 12  Percent Scoring 80 or Above  25110 non-null  object\n",
      " 13  Number Scoring CR            25110 non-null  object\n",
      " 14  Percent Scoring CR           25110 non-null  object\n",
      "dtypes: int64(2), object(13)\n",
      "memory usage: 3.1+ MB\n"
     ]
    }
   ],
   "source": [
    "dfq.info()"
   ]
  },
  {
   "cell_type": "code",
   "execution_count": 36,
   "metadata": {},
   "outputs": [],
   "source": [
    "drop_cols = ['Number Scoring CR', 'Percent Scoring CR']\n",
    "df.drop(drop_cols, inplace=True, axis=1)"
   ]
  },
  {
   "cell_type": "code",
   "execution_count": 37,
   "metadata": {},
   "outputs": [],
   "source": [
    "df=df.fillna(df.median())"
   ]
  },
  {
   "cell_type": "code",
   "execution_count": 43,
   "metadata": {},
   "outputs": [],
   "source": [
    "dfq1= df[[ 'School Name', 'Regents Exam', 'Year', 'Total Tested', 'Mean Score']]"
   ]
  },
  {
   "cell_type": "code",
   "execution_count": 46,
   "metadata": {},
   "outputs": [],
   "source": [
    "FHHS= dfq1[dfq1['School Name']== 'FHHS']"
   ]
  },
  {
   "cell_type": "code",
   "execution_count": 48,
   "metadata": {},
   "outputs": [
    {
     "data": {
      "text/html": [
       "<div>\n",
       "<style scoped>\n",
       "    .dataframe tbody tr th:only-of-type {\n",
       "        vertical-align: middle;\n",
       "    }\n",
       "\n",
       "    .dataframe tbody tr th {\n",
       "        vertical-align: top;\n",
       "    }\n",
       "\n",
       "    .dataframe thead th {\n",
       "        text-align: right;\n",
       "    }\n",
       "</style>\n",
       "<table border=\"1\" class=\"dataframe\">\n",
       "  <thead>\n",
       "    <tr style=\"text-align: right;\">\n",
       "      <th></th>\n",
       "      <th>School Name</th>\n",
       "      <th>Regents Exam</th>\n",
       "      <th>Year</th>\n",
       "      <th>Total Tested</th>\n",
       "      <th>Mean Score</th>\n",
       "    </tr>\n",
       "  </thead>\n",
       "  <tbody>\n",
       "  </tbody>\n",
       "</table>\n",
       "</div>"
      ],
      "text/plain": [
       "Empty DataFrame\n",
       "Columns: [School Name, Regents Exam, Year, Total Tested, Mean Score]\n",
       "Index: []"
      ]
     },
     "execution_count": 48,
     "metadata": {},
     "output_type": "execute_result"
    }
   ],
   "source": [
    "FHHS.head(5)"
   ]
  },
  {
   "cell_type": "code",
   "execution_count": 49,
   "metadata": {},
   "outputs": [],
   "source": [
    "FHHS = pd.DataFrame(np.random.rand(10, 4), columns=['School_Name', 'Year', 'Total_Tested', 'Regents_Exam'])"
   ]
  },
  {
   "cell_type": "code",
   "execution_count": 51,
   "metadata": {
    "scrolled": false
   },
   "outputs": [
    {
     "data": {
      "image/png": "[encoded data removed]",
      "text/plain": [
       "<Figure size 432x288 with 1 Axes>"
      ]
     },
     "metadata": {
      "needs_background": "light"
     },
     "output_type": "display_data"
    }
   ],
   "source": [
    "FHHS.plot.bar();"
   ]
  },
  {
   "cell_type": "code",
   "execution_count": 32,
   "metadata": {},
   "outputs": [
    {
     "data": {
      "text/plain": [
       "<Figure size 432x288 with 0 Axes>"
      ]
     },
     "metadata": {},
     "output_type": "display_data"
    }
   ],
   "source": [
    "In [24]: plt.figure();"
   ]
  },
  {
   "cell_type": "code",
   "execution_count": 52,
   "metadata": {},
   "outputs": [
    {
     "data": {
      "text/plain": [
       "<AxesSubplot:ylabel='Frequency'>"
      ]
     },
     "execution_count": 52,
     "metadata": {},
     "output_type": "execute_result"
    },
    {
     "data": {
      "image/png": "[encoded data removed]",
      "text/plain": [
       "<Figure size 432x288 with 1 Axes>"
      ]
     },
     "metadata": {
      "needs_background": "light"
     },
     "output_type": "display_data"
    }
   ],
   "source": [
    "FHHS.plot.hist(stacked=True, bins=20)"
   ]
  },
  {
   "cell_type": "markdown",
   "metadata": {},
   "source": [
    "## I chose Forest Hills High School in Queens Forest Hills High School is a New York State Recognition School that placed in the top 5% of schools in the state.. Total number of students is 3,705 with a graduation rate & daily attendance of 100%. FHHS College Career Rate: 100% of students enroll in college or career programs within 6 months."
   ]
  },
  {
   "cell_type": "code",
   "execution_count": null,
   "metadata": {},
   "outputs": [],
   "source": []
  }
 ],
 "metadata": {
  "kernelspec": {
   "display_name": "Python 3",
   "language": "python",
   "name": "python3"
  },
  "language_info": {
   "codemirror_mode": {
    "name": "ipython",
    "version": 3
   },
   "file_extension": ".py",
   "mimetype": "text/x-python",
   "name": "python",
   "nbconvert_exporter": "python",
   "pygments_lexer": "ipython3",
   "version": "3.8.5"
  }
 },
 "nbformat": 4,
 "nbformat_minor": 4
}
